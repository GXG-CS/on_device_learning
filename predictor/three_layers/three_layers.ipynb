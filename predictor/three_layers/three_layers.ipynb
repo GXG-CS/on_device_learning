{
 "cells": [
  {
   "cell_type": "code",
   "execution_count": 22,
   "metadata": {},
   "outputs": [
    {
     "name": "stdout",
     "output_type": "stream",
     "text": [
      "INFO:tensorflow:Assets written to: C:\\Users\\gxg_c\\AppData\\Local\\Temp\\tmpy33q6yxc\\assets\n"
     ]
    },
    {
     "name": "stderr",
     "output_type": "stream",
     "text": [
      "INFO:tensorflow:Assets written to: C:\\Users\\gxg_c\\AppData\\Local\\Temp\\tmpy33q6yxc\\assets\n"
     ]
    },
    {
     "name": "stdout",
     "output_type": "stream",
     "text": [
      "Saved artifact at 'C:\\Users\\gxg_c\\AppData\\Local\\Temp\\tmpy33q6yxc'. The following endpoints are available:\n",
      "\n",
      "* Endpoint 'serve'\n",
      "  args_0 (POSITIONAL_ONLY): TensorSpec(shape=(None, 4), dtype=tf.float32, name='keras_tensor_70')\n",
      "Output Type:\n",
      "  TensorSpec(shape=(None, 2), dtype=tf.float32, name=None)\n",
      "Captures:\n",
      "  2790080652384: TensorSpec(shape=(), dtype=tf.resource, name=None)\n",
      "  2790080651328: TensorSpec(shape=(), dtype=tf.resource, name=None)\n",
      "INFO:tensorflow:Assets written to: C:\\Users\\gxg_c\\AppData\\Local\\Temp\\tmpefiorbxj\\assets\n"
     ]
    },
    {
     "name": "stderr",
     "output_type": "stream",
     "text": [
      "INFO:tensorflow:Assets written to: C:\\Users\\gxg_c\\AppData\\Local\\Temp\\tmpefiorbxj\\assets\n"
     ]
    },
    {
     "name": "stdout",
     "output_type": "stream",
     "text": [
      "Saved artifact at 'C:\\Users\\gxg_c\\AppData\\Local\\Temp\\tmpefiorbxj'. The following endpoints are available:\n",
      "\n",
      "* Endpoint 'serve'\n",
      "  args_0 (POSITIONAL_ONLY): TensorSpec(shape=(None, 4), dtype=tf.float32, name='keras_tensor_70')\n",
      "Output Type:\n",
      "  TensorSpec(shape=(None, 2), dtype=tf.float32, name=None)\n",
      "Captures:\n",
      "  2790080652384: TensorSpec(shape=(), dtype=tf.resource, name=None)\n",
      "  2790080651328: TensorSpec(shape=(), dtype=tf.resource, name=None)\n",
      "  2790080648288: TensorSpec(shape=(), dtype=tf.resource, name=None)\n",
      "  2790080648992: TensorSpec(shape=(), dtype=tf.resource, name=None)\n",
      "INFO:tensorflow:Assets written to: C:\\Users\\gxg_c\\AppData\\Local\\Temp\\tmpcp0tv4t4\\assets\n"
     ]
    },
    {
     "name": "stderr",
     "output_type": "stream",
     "text": [
      "INFO:tensorflow:Assets written to: C:\\Users\\gxg_c\\AppData\\Local\\Temp\\tmpcp0tv4t4\\assets\n"
     ]
    },
    {
     "name": "stdout",
     "output_type": "stream",
     "text": [
      "Saved artifact at 'C:\\Users\\gxg_c\\AppData\\Local\\Temp\\tmpcp0tv4t4'. The following endpoints are available:\n",
      "\n",
      "* Endpoint 'serve'\n",
      "  args_0 (POSITIONAL_ONLY): TensorSpec(shape=(None, 4), dtype=tf.float32, name='keras_tensor_70')\n",
      "Output Type:\n",
      "  TensorSpec(shape=(None, 2), dtype=tf.float32, name=None)\n",
      "Captures:\n",
      "  2790080652384: TensorSpec(shape=(), dtype=tf.resource, name=None)\n",
      "  2790080651328: TensorSpec(shape=(), dtype=tf.resource, name=None)\n",
      "  2790080648288: TensorSpec(shape=(), dtype=tf.resource, name=None)\n",
      "  2790080648992: TensorSpec(shape=(), dtype=tf.resource, name=None)\n",
      "  2790081375040: TensorSpec(shape=(), dtype=tf.resource, name=None)\n",
      "  2790081428816: TensorSpec(shape=(), dtype=tf.resource, name=None)\n"
     ]
    }
   ],
   "source": [
    "import tensorflow as tf\n",
    "\n",
    "# Create a tiny 3-layer model using the Functional API\n",
    "def create_model():\n",
    "    inputs = tf.keras.Input(shape=(4,))\n",
    "    x = tf.keras.layers.Dense(2, activation='tanh', name='dense_1')(inputs)\n",
    "    x = tf.keras.layers.Dense(2, activation='tanh', name='dense_2')(x)\n",
    "    outputs = tf.keras.layers.Dense(2, activation='tanh', name='dense_3')(x)\n",
    "    model = tf.keras.Model(inputs, outputs)\n",
    "    return model\n",
    "\n",
    "# Function to save cumulative model parts as .tflite\n",
    "def save_model_parts(model):\n",
    "    for i in range(1, len(model.layers)):\n",
    "        sub_model = tf.keras.Model(inputs=model.input, outputs=model.layers[i].output)\n",
    "        converter = tf.lite.TFLiteConverter.from_keras_model(sub_model)\n",
    "        tflite_model = converter.convert()\n",
    "        with open(f'model_part{i}.tflite', 'wb') as f:\n",
    "            f.write(tflite_model)\n",
    "\n",
    "# Create the model\n",
    "model = create_model()\n",
    "\n",
    "# Save cumulative model parts\n",
    "save_model_parts(model)\n",
    "\n",
    "\n"
   ]
  },
  {
   "cell_type": "code",
   "execution_count": 25,
   "metadata": {},
   "outputs": [
    {
     "name": "stdout",
     "output_type": "stream",
     "text": [
      "Output of model_part1: [[-0.9932748  0.9729027]]\n",
      "Output of model_part2: [[0.06795501 0.46061832]]\n",
      "Output of model_part3: [[-0.32540706  0.39422852]]\n"
     ]
    }
   ],
   "source": [
    "import numpy as np\n",
    "import tensorflow as tf\n",
    "\n",
    "# Function to load and run inference on a TFLite model\n",
    "def load_and_run_model(model_path, input_data):\n",
    "    # Load the TFLite model\n",
    "    interpreter = tf.lite.Interpreter(model_path=model_path)\n",
    "    interpreter.allocate_tensors()\n",
    "\n",
    "    # Get input and output tensor details\n",
    "    input_details = interpreter.get_input_details()\n",
    "    output_details = interpreter.get_output_details()\n",
    "\n",
    "    # Set input tensor\n",
    "    interpreter.set_tensor(input_details[0]['index'], input_data)\n",
    "\n",
    "    # Run the model (inference)\n",
    "    interpreter.invoke()\n",
    "\n",
    "    # Get the output tensor\n",
    "    output_data = interpreter.get_tensor(output_details[0]['index'])\n",
    "    return output_data\n",
    "\n",
    "# Fixed input data (example: small random values)\n",
    "input_data = np.array([[1.0, 2.0, 3.0, 4.0]], dtype=np.float32)\n",
    "\n",
    "# Test each model part and print the output\n",
    "for i in range(1, 4):  # There are 3 parts: model_part1.tflite, model_part2.tflite, model_part3.tflite\n",
    "    model_path = f'model_part{i}.tflite'\n",
    "    output_data = load_and_run_model(model_path, input_data)\n",
    "    print(f\"Output of model_part{i}: {output_data}\")\n",
    "\n"
   ]
  }
 ],
 "metadata": {
  "kernelspec": {
   "display_name": "mcu",
   "language": "python",
   "name": "python3"
  },
  "language_info": {
   "codemirror_mode": {
    "name": "ipython",
    "version": 3
   },
   "file_extension": ".py",
   "mimetype": "text/x-python",
   "name": "python",
   "nbconvert_exporter": "python",
   "pygments_lexer": "ipython3",
   "version": "3.9.19"
  }
 },
 "nbformat": 4,
 "nbformat_minor": 2
}
