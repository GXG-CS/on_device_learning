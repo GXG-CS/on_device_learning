{
 "cells": [
  {
   "cell_type": "code",
   "execution_count": 2,
   "metadata": {},
   "outputs": [
    {
     "ename": "AttributeError",
     "evalue": "type object 'torch._C._profiler.ProfilerActivity' has no attribute 'MEMORY'",
     "output_type": "error",
     "traceback": [
      "\u001b[1;31m---------------------------------------------------------------------------\u001b[0m",
      "\u001b[1;31mAttributeError\u001b[0m                            Traceback (most recent call last)",
      "Cell \u001b[1;32mIn[2], line 19\u001b[0m\n\u001b[0;32m     16\u001b[0m input_data \u001b[38;5;241m=\u001b[39m torch\u001b[38;5;241m.\u001b[39mrandn(\u001b[38;5;241m1\u001b[39m, \u001b[38;5;241m3\u001b[39m, \u001b[38;5;241m224\u001b[39m, \u001b[38;5;241m224\u001b[39m)\n\u001b[0;32m     18\u001b[0m \u001b[38;5;66;03m# Step 4: Profile the quantized model with CPU and MEMORY activities\u001b[39;00m\n\u001b[1;32m---> 19\u001b[0m \u001b[38;5;28;01mwith\u001b[39;00m profile(activities\u001b[38;5;241m=\u001b[39m[ProfilerActivity\u001b[38;5;241m.\u001b[39mCPU, \u001b[43mProfilerActivity\u001b[49m\u001b[38;5;241;43m.\u001b[39;49m\u001b[43mMEMORY\u001b[49m], record_shapes\u001b[38;5;241m=\u001b[39m\u001b[38;5;28;01mTrue\u001b[39;00m) \u001b[38;5;28;01mas\u001b[39;00m prof:\n\u001b[0;32m     20\u001b[0m     output \u001b[38;5;241m=\u001b[39m model_int8(input_data)\n\u001b[0;32m     22\u001b[0m \u001b[38;5;66;03m# Step 5: Display profiling results sorted by memory usage\u001b[39;00m\n",
      "\u001b[1;31mAttributeError\u001b[0m: type object 'torch._C._profiler.ProfilerActivity' has no attribute 'MEMORY'"
     ]
    }
   ],
   "source": [
    "import torch\n",
    "from torch.profiler import profile, ProfilerActivity\n",
    "import torchvision\n",
    "import torch.quantization\n",
    "\n",
    "# Step 1: Load and prepare the MobileNetV2 model for quantization\n",
    "model_fp32 = torchvision.models.mobilenet_v2(pretrained=True)\n",
    "model_fp32.eval()\n",
    "model_fp32.qconfig = torch.quantization.get_default_qconfig('fbgemm')\n",
    "\n",
    "# Step 2: Quantize the model to int8\n",
    "model_int8 = torch.quantization.prepare(model_fp32, inplace=False)\n",
    "model_int8 = torch.quantization.convert(model_int8, inplace=False)\n",
    "\n",
    "# Step 3: Define the input tensor (standard size for MobileNetV2)\n",
    "input_data = torch.randn(1, 3, 224, 224)\n",
    "\n",
    "# Step 4: Profile the quantized model with CPU and MEMORY activities\n",
    "with profile(activities=[ProfilerActivity.CPU, ProfilerActivity.MEMORY], record_shapes=True) as prof:\n",
    "    output = model_int8(input_data)\n",
    "\n",
    "# Step 5: Display profiling results sorted by memory usage\n",
    "print(prof.key_averages().table(sort_by=\"memory_usage\", row_limit=10))\n"
   ]
  }
 ],
 "metadata": {
  "kernelspec": {
   "display_name": "mcu",
   "language": "python",
   "name": "python3"
  },
  "language_info": {
   "codemirror_mode": {
    "name": "ipython",
    "version": 3
   },
   "file_extension": ".py",
   "mimetype": "text/x-python",
   "name": "python",
   "nbconvert_exporter": "python",
   "pygments_lexer": "ipython3",
   "version": "3.9.19"
  }
 },
 "nbformat": 4,
 "nbformat_minor": 2
}
